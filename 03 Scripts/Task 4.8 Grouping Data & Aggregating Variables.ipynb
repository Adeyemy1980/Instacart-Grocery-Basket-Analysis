{
 "cells": [
  {
   "cell_type": "markdown",
   "id": "a24a1489",
   "metadata": {},
   "source": [
    "# 01. Import libraries"
   ]
  },
  {
   "cell_type": "code",
   "execution_count": null,
   "id": "8a40aa9c",
   "metadata": {},
   "outputs": [],
   "source": [
    "import pandas as pd\n",
    "import numpy as np\n",
    "import os"
   ]
  },
  {
   "cell_type": "markdown",
   "id": "274768e0",
   "metadata": {},
   "source": [
    "# 02. Importing orders_products_merged_update"
   ]
  },
  {
   "cell_type": "code",
   "execution_count": null,
   "id": "0657a219",
   "metadata": {},
   "outputs": [],
   "source": [
    "ords_prods_merge=pd.read_pickle(r\"C:\\Users\\eniad\\Downloads\\Instacart Basket Analysis\\02 Data\\prepared data\\orders_products_merged_update.pkl\")"
   ]
  },
  {
   "cell_type": "code",
   "execution_count": null,
   "id": "06f8d92e",
   "metadata": {},
   "outputs": [],
   "source": [
    "#creating a subset of orders_products_merged_update\n",
    "df=ords_prods_merge[:1000000]"
   ]
  },
  {
   "cell_type": "code",
   "execution_count": null,
   "id": "457f1913",
   "metadata": {
    "scrolled": true
   },
   "outputs": [],
   "source": [
    "df.head()"
   ]
  },
  {
   "cell_type": "code",
   "execution_count": null,
   "id": "fdf2c1fa",
   "metadata": {},
   "outputs": [],
   "source": [
    "df.shape"
   ]
  },
  {
   "cell_type": "code",
   "execution_count": null,
   "id": "8e1d35a2",
   "metadata": {},
   "outputs": [],
   "source": [
    "#creating mean of the subset\n",
    "df.groupby('department_id').agg({'order_number':['mean']})"
   ]
  },
  {
   "cell_type": "code",
   "execution_count": null,
   "id": "e338b0e5",
   "metadata": {
    "scrolled": true
   },
   "outputs": [],
   "source": [
    "#creating mean of ords_prods_merge\n",
    "ords_prods_merge.groupby('department_id').agg({'order_number':['mean']})"
   ]
  },
  {
   "cell_type": "markdown",
   "id": "ebcacd86",
   "metadata": {},
   "source": [
    "The entire dataframe has more outcome when compared to the subset of the entire dataframe. "
   ]
  },
  {
   "cell_type": "markdown",
   "id": "52c17f68",
   "metadata": {},
   "source": [
    "# 03. Creating loyalty flag with transform ()"
   ]
  },
  {
   "cell_type": "code",
   "execution_count": null,
   "id": "77ed40c2",
   "metadata": {},
   "outputs": [],
   "source": [
    "ords_prods_merge['max_order'] = ords_prods_merge.groupby(['user_id'])['order_number'].transform(np.max)"
   ]
  },
  {
   "cell_type": "code",
   "execution_count": null,
   "id": "afe7a6de",
   "metadata": {
    "scrolled": true
   },
   "outputs": [],
   "source": [
    "ords_prods_merge.head(100)"
   ]
  },
  {
   "cell_type": "code",
   "execution_count": null,
   "id": "72a06955",
   "metadata": {},
   "outputs": [],
   "source": [
    "pd.options.display.max_rows=None"
   ]
  },
  {
   "cell_type": "code",
   "execution_count": null,
   "id": "e5025023",
   "metadata": {},
   "outputs": [],
   "source": [
    "ords_prods_merge.head(100)"
   ]
  },
  {
   "cell_type": "markdown",
   "id": "670a8f09",
   "metadata": {},
   "source": [
    "# 04 Creating loyalty_flag with loc() functions"
   ]
  },
  {
   "cell_type": "code",
   "execution_count": null,
   "id": "68d76ef7",
   "metadata": {},
   "outputs": [],
   "source": [
    "ords_prods_merge.loc[ords_prods_merge['max_order'] > 40, 'loyalty_flag'] = 'Loyal customer'"
   ]
  },
  {
   "cell_type": "code",
   "execution_count": null,
   "id": "6aba210b",
   "metadata": {},
   "outputs": [],
   "source": [
    "ords_prods_merge.loc[(ords_prods_merge['max_order'] <= 40) & (ords_prods_merge['max_order'] > 10), 'loyalty_flag'] = 'Regular customer'"
   ]
  },
  {
   "cell_type": "code",
   "execution_count": null,
   "id": "2c684523",
   "metadata": {},
   "outputs": [],
   "source": [
    "ords_prods_merge.loc[ords_prods_merge['max_order'] <= 10, 'loyalty_flag'] = 'New customer'"
   ]
  },
  {
   "cell_type": "code",
   "execution_count": null,
   "id": "62052181",
   "metadata": {
    "scrolled": true
   },
   "outputs": [],
   "source": [
    "ords_prods_merge['loyalty_flag'].value_counts(dropna=False)"
   ]
  },
  {
   "cell_type": "code",
   "execution_count": null,
   "id": "d4c6fbd9",
   "metadata": {},
   "outputs": [],
   "source": [
    "ords_prods_merge[['user_id', 'loyalty_flag', 'order_number']].head(60)"
   ]
  },
  {
   "cell_type": "code",
   "execution_count": null,
   "id": "914a018f",
   "metadata": {
    "scrolled": false
   },
   "outputs": [],
   "source": [
    "# 05 Checking spending habit of the three customers\n",
    ".groupby('loyalty_flag').agg({'prices':['mean','min', 'max']})"
   ]
  },
  {
   "cell_type": "markdown",
   "id": "94a0fde1",
   "metadata": {},
   "source": [
    "From the above, the loyal customer spends more on average than the new customer and regular customer. "
   ]
  },
  {
   "cell_type": "markdown",
   "id": "227cd152",
   "metadata": {},
   "source": [
    "# 06 creating spending flag using transform() "
   ]
  },
  {
   "cell_type": "code",
   "execution_count": null,
   "id": "0b65fb93",
   "metadata": {},
   "outputs": [],
   "source": [
    "ords_prods_merge['average_price'] = ords_prods_merge.groupby(['user_id'])['prices'].transform(np.mean)"
   ]
  },
  {
   "cell_type": "code",
   "execution_count": null,
   "id": "6832dd26",
   "metadata": {},
   "outputs": [],
   "source": [
    "ords_prods_merge.head()"
   ]
  },
  {
   "cell_type": "markdown",
   "id": "9d0a56f8",
   "metadata": {},
   "source": [
    "# Creating spending flag with deriving loc()"
   ]
  },
  {
   "cell_type": "code",
   "execution_count": null,
   "id": "cd70771c",
   "metadata": {},
   "outputs": [],
   "source": [
    "ords_prods_merge.loc[ords_prods_merge['average_price'] < 10, 'spending_flag'] = 'Low spender'"
   ]
  },
  {
   "cell_type": "code",
   "execution_count": null,
   "id": "31eb23f3",
   "metadata": {},
   "outputs": [],
   "source": [
    "ords_prods_merge.loc[(ords_prods_merge['average_price'] <= 10) & (ords_prods_merge['max_order'] > 10), 'spending_flag'] = 'High spender'"
   ]
  },
  {
   "cell_type": "code",
   "execution_count": null,
   "id": "52fa9c72",
   "metadata": {},
   "outputs": [],
   "source": [
    "ords_prods_merge['spending_flag'].value_counts(dropna=False)"
   ]
  },
  {
   "cell_type": "code",
   "execution_count": null,
   "id": "dd18a60c",
   "metadata": {},
   "outputs": [],
   "source": [
    "ords_prods_merge.head()"
   ]
  },
  {
   "cell_type": "markdown",
   "id": "c47b3d98",
   "metadata": {},
   "source": [
    "# 07 Creating order frequency flag using transform ()"
   ]
  },
  {
   "cell_type": "code",
   "execution_count": null,
   "id": "658a15dc",
   "metadata": {},
   "outputs": [],
   "source": [
    "ords_prods_merge['median_prior_order'] = ords_prods_merge.groupby(['user_id'])['days_since_prior_order'].transform(np.median)"
   ]
  },
  {
   "cell_type": "code",
   "execution_count": null,
   "id": "ac707244",
   "metadata": {},
   "outputs": [],
   "source": [
    "ords_prods_merge.head()"
   ]
  },
  {
   "cell_type": "markdown",
   "id": "82b07fce",
   "metadata": {},
   "source": [
    "# Creating order_frequency_flag with deriving loc()"
   ]
  },
  {
   "cell_type": "code",
   "execution_count": null,
   "id": "d49ba927",
   "metadata": {},
   "outputs": [],
   "source": [
    "ords_prods_merge.loc[ords_prods_merge['median_prior_order'] < 10, 'order_frequency_flag'] = 'Non-frequent customer'"
   ]
  },
  {
   "cell_type": "code",
   "execution_count": null,
   "id": "02320e67",
   "metadata": {},
   "outputs": [],
   "source": [
    "ords_prods_merge.loc[(ords_prods_merge['median_prior_order'] > 10) & (ords_prods_merge['median_prior_order'] <= 20), 'order_frequency_flag'] = 'Regular customer'"
   ]
  },
  {
   "cell_type": "code",
   "execution_count": null,
   "id": "c27470ef",
   "metadata": {},
   "outputs": [],
   "source": [
    "ords_prods_merge.loc[ords_prods_merge['median_prior_order'] <= 10, 'order_frequency_flag'] = 'Frequent customer'"
   ]
  },
  {
   "cell_type": "code",
   "execution_count": null,
   "id": "70be2b6f",
   "metadata": {},
   "outputs": [],
   "source": [
    "ords_prods_merge['order_frequency_flag'].value_counts(dropna=False)"
   ]
  },
  {
   "cell_type": "code",
   "execution_count": null,
   "id": "52085e8d",
   "metadata": {},
   "outputs": [],
   "source": [
    "ords_prods_merge.head(25)"
   ]
  },
  {
   "cell_type": "markdown",
   "id": "7f282c88",
   "metadata": {},
   "source": [
    "EXPORTING dataframe "
   ]
  },
  {
   "cell_type": "code",
   "execution_count": null,
   "id": "3c0ec214",
   "metadata": {},
   "outputs": [],
   "source": [
    "ords_prods_merge.to_pickle(r'C:\\Users\\eniad\\Downloads\\Instacart Basket Analysis\\02 Data\\prepared data\\orders_products_merged_updated.pkl')"
   ]
  },
  {
   "cell_type": "code",
   "execution_count": null,
   "id": "cd5bb1c8",
   "metadata": {},
   "outputs": [],
   "source": []
  }
 ],
 "metadata": {
  "kernelspec": {
   "display_name": "Python 3 (ipykernel)",
   "language": "python",
   "name": "python3"
  },
  "language_info": {
   "codemirror_mode": {
    "name": "ipython",
    "version": 3
   },
   "file_extension": ".py",
   "mimetype": "text/x-python",
   "name": "python",
   "nbconvert_exporter": "python",
   "pygments_lexer": "ipython3",
   "version": "3.10.9"
  }
 },
 "nbformat": 4,
 "nbformat_minor": 5
}
